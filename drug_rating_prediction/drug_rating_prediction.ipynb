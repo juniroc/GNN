{
 "cells": [
  {
   "cell_type": "markdown",
   "id": "88f7423a",
   "metadata": {},
   "source": [
    "<img src=\"./images/1.png\" width =\"600\">"
   ]
  },
  {
   "cell_type": "code",
   "execution_count": 4,
   "id": "fefaf444",
   "metadata": {
    "ExecuteTime": {
     "end_time": "2022-02-14T09:40:21.239432Z",
     "start_time": "2022-02-14T09:40:21.236457Z"
    }
   },
   "outputs": [],
   "source": [
    "import pandas as pd\n",
    "import numpy as np\n",
    "import dgl\n",
    "import torch\n",
    "import torch.nn as nn\n",
    "import torch.nn.functional as F\n",
    "import itertools\n",
    "import torchmetrics"
   ]
  },
  {
   "cell_type": "markdown",
   "id": "864804d1",
   "metadata": {},
   "source": [
    "## data preprocessing"
   ]
  },
  {
   "cell_type": "code",
   "execution_count": 19,
   "id": "aa0242c0",
   "metadata": {
    "ExecuteTime": {
     "end_time": "2022-02-14T09:41:20.582078Z",
     "start_time": "2022-02-14T09:41:20.335661Z"
    },
    "scrolled": true
   },
   "outputs": [
    {
     "name": "stdout",
     "output_type": "stream",
     "text": [
      "(362806, 12)\n"
     ]
    }
   ],
   "source": [
    "# df = pd.read_csv('./kaggle_data(drug)/webmd.csv')\n",
    "df_ = pd.read_feather('./kaggle_data/webmd.ftr')\n",
    "df_.head()\n",
    "print(df_.shape)"
   ]
  },
  {
   "cell_type": "markdown",
   "id": "96244c11",
   "metadata": {},
   "source": [
    "### remove null data\n",
    "- remove null value it include ' '(empty value) "
   ]
  },
  {
   "cell_type": "code",
   "execution_count": 20,
   "id": "31817f46",
   "metadata": {
    "ExecuteTime": {
     "end_time": "2022-02-14T09:41:22.469508Z",
     "start_time": "2022-02-14T09:41:21.881057Z"
    }
   },
   "outputs": [],
   "source": [
    "for i in df_.columns:\n",
    "    df_ = df_[df_[i]!=' ']\n",
    "df_.dropna(inplace=True)\n",
    "df_.reset_index(drop=True, inplace=True)"
   ]
  },
  {
   "cell_type": "code",
   "execution_count": 21,
   "id": "92368347",
   "metadata": {
    "ExecuteTime": {
     "end_time": "2022-02-14T09:41:23.046914Z",
     "start_time": "2022-02-14T09:41:23.032594Z"
    }
   },
   "outputs": [
    {
     "name": "stdout",
     "output_type": "stream",
     "text": [
      "(280127, 12)\n"
     ]
    },
    {
     "data": {
      "text/html": [
       "<div>\n",
       "<style scoped>\n",
       "    .dataframe tbody tr th:only-of-type {\n",
       "        vertical-align: middle;\n",
       "    }\n",
       "\n",
       "    .dataframe tbody tr th {\n",
       "        vertical-align: top;\n",
       "    }\n",
       "\n",
       "    .dataframe thead th {\n",
       "        text-align: right;\n",
       "    }\n",
       "</style>\n",
       "<table border=\"1\" class=\"dataframe\">\n",
       "  <thead>\n",
       "    <tr style=\"text-align: right;\">\n",
       "      <th></th>\n",
       "      <th>Age</th>\n",
       "      <th>Condition</th>\n",
       "      <th>Date</th>\n",
       "      <th>Drug</th>\n",
       "      <th>DrugId</th>\n",
       "      <th>EaseofUse</th>\n",
       "      <th>Effectiveness</th>\n",
       "      <th>Reviews</th>\n",
       "      <th>Satisfaction</th>\n",
       "      <th>Sex</th>\n",
       "      <th>Sides</th>\n",
       "      <th>UsefulCount</th>\n",
       "    </tr>\n",
       "  </thead>\n",
       "  <tbody>\n",
       "    <tr>\n",
       "      <th>0</th>\n",
       "      <td>75 or over</td>\n",
       "      <td>Stuffy Nose</td>\n",
       "      <td>9/21/2014</td>\n",
       "      <td>25dph-7.5peh</td>\n",
       "      <td>146724</td>\n",
       "      <td>5</td>\n",
       "      <td>5</td>\n",
       "      <td>I'm a retired physician and of all the meds I ...</td>\n",
       "      <td>5</td>\n",
       "      <td>Male</td>\n",
       "      <td>Drowsiness,  dizziness ,  dry mouth /nose/thro...</td>\n",
       "      <td>0</td>\n",
       "    </tr>\n",
       "    <tr>\n",
       "      <th>1</th>\n",
       "      <td>25-34</td>\n",
       "      <td>Cold Symptoms</td>\n",
       "      <td>1/13/2011</td>\n",
       "      <td>25dph-7.5peh</td>\n",
       "      <td>146724</td>\n",
       "      <td>5</td>\n",
       "      <td>5</td>\n",
       "      <td>cleared me right up even with my throat hurtin...</td>\n",
       "      <td>5</td>\n",
       "      <td>Female</td>\n",
       "      <td>Drowsiness,  dizziness ,  dry mouth /nose/thro...</td>\n",
       "      <td>1</td>\n",
       "    </tr>\n",
       "    <tr>\n",
       "      <th>2</th>\n",
       "      <td>25-34</td>\n",
       "      <td>Birth Control</td>\n",
       "      <td>6/15/2017</td>\n",
       "      <td>wymzya fe</td>\n",
       "      <td>163180</td>\n",
       "      <td>5</td>\n",
       "      <td>5</td>\n",
       "      <td>Haven't gotten pregnant so it does it's job. I...</td>\n",
       "      <td>2</td>\n",
       "      <td>Female</td>\n",
       "      <td>Nausea ,  vomiting ,  headache ,  bloating ,  ...</td>\n",
       "      <td>0</td>\n",
       "    </tr>\n",
       "    <tr>\n",
       "      <th>3</th>\n",
       "      <td>45-54</td>\n",
       "      <td>Disease of Ovaries with Cysts</td>\n",
       "      <td>1/30/2017</td>\n",
       "      <td>wymzya fe</td>\n",
       "      <td>163180</td>\n",
       "      <td>5</td>\n",
       "      <td>5</td>\n",
       "      <td>I have take this for 5 years age 45-50 to prev...</td>\n",
       "      <td>5</td>\n",
       "      <td>Female</td>\n",
       "      <td>Nausea ,  vomiting ,  headache ,  bloating ,  ...</td>\n",
       "      <td>0</td>\n",
       "    </tr>\n",
       "    <tr>\n",
       "      <th>4</th>\n",
       "      <td>55-64</td>\n",
       "      <td>Stuffy Nose</td>\n",
       "      <td>10/29/2012</td>\n",
       "      <td>12 hour nasal relief spray, non-aerosol</td>\n",
       "      <td>9800</td>\n",
       "      <td>4</td>\n",
       "      <td>2</td>\n",
       "      <td>The 12 hour spray only works for me for 6 hours.</td>\n",
       "      <td>2</td>\n",
       "      <td>Male</td>\n",
       "      <td>Temporary burning, stinging, dryness in the no...</td>\n",
       "      <td>0</td>\n",
       "    </tr>\n",
       "  </tbody>\n",
       "</table>\n",
       "</div>"
      ],
      "text/plain": [
       "          Age                      Condition        Date  \\\n",
       "0  75 or over                    Stuffy Nose   9/21/2014   \n",
       "1       25-34                  Cold Symptoms   1/13/2011   \n",
       "2       25-34                  Birth Control   6/15/2017   \n",
       "3       45-54  Disease of Ovaries with Cysts   1/30/2017   \n",
       "4       55-64                    Stuffy Nose  10/29/2012   \n",
       "\n",
       "                                      Drug  DrugId  EaseofUse  Effectiveness  \\\n",
       "0                             25dph-7.5peh  146724          5              5   \n",
       "1                             25dph-7.5peh  146724          5              5   \n",
       "2                                wymzya fe  163180          5              5   \n",
       "3                                wymzya fe  163180          5              5   \n",
       "4  12 hour nasal relief spray, non-aerosol    9800          4              2   \n",
       "\n",
       "                                             Reviews  Satisfaction     Sex  \\\n",
       "0  I'm a retired physician and of all the meds I ...             5    Male   \n",
       "1  cleared me right up even with my throat hurtin...             5  Female   \n",
       "2  Haven't gotten pregnant so it does it's job. I...             2  Female   \n",
       "3  I have take this for 5 years age 45-50 to prev...             5  Female   \n",
       "4   The 12 hour spray only works for me for 6 hours.             2    Male   \n",
       "\n",
       "                                               Sides  UsefulCount  \n",
       "0  Drowsiness,  dizziness ,  dry mouth /nose/thro...            0  \n",
       "1  Drowsiness,  dizziness ,  dry mouth /nose/thro...            1  \n",
       "2  Nausea ,  vomiting ,  headache ,  bloating ,  ...            0  \n",
       "3  Nausea ,  vomiting ,  headache ,  bloating ,  ...            0  \n",
       "4  Temporary burning, stinging, dryness in the no...            0  "
      ]
     },
     "execution_count": 21,
     "metadata": {},
     "output_type": "execute_result"
    }
   ],
   "source": [
    "print(df_.shape)\n",
    "df_.head()"
   ]
  },
  {
   "cell_type": "markdown",
   "id": "9c600bfe",
   "metadata": {},
   "source": [
    "\n",
    "- change value\n",
    "`Effectiveness` , `EaseofUse`, `Satisfaction`\n",
    "---\n",
    "```\n",
    "rating : 0~ 5\n",
    "    \n",
    "    0~3 =  0\n",
    "    4~5 =  1\n",
    "```\n"
   ]
  },
  {
   "cell_type": "code",
   "execution_count": 22,
   "id": "721f77dd",
   "metadata": {
    "ExecuteTime": {
     "end_time": "2022-02-14T09:41:24.561252Z",
     "start_time": "2022-02-14T09:41:24.341049Z"
    }
   },
   "outputs": [],
   "source": [
    "# change value Effectiveness, EaseofUse, Satisfaction\n",
    "df_['Effectiveness'] = df_['Effectiveness'].apply(lambda x: 0 if (x<4) else 1)\n",
    "df_['EaseofUse'] = df_['EaseofUse'].apply(lambda x: 0 if (x<4) else 1)\n",
    "df_['Satisfaction'] = df_['Satisfaction'].apply(lambda x: 0 if (x<4) else 1)"
   ]
  },
  {
   "cell_type": "code",
   "execution_count": 23,
   "id": "8b493f48",
   "metadata": {
    "ExecuteTime": {
     "end_time": "2022-02-14T09:41:25.161931Z",
     "start_time": "2022-02-14T09:41:25.148871Z"
    },
    "scrolled": false
   },
   "outputs": [
    {
     "data": {
      "text/html": [
       "<div>\n",
       "<style scoped>\n",
       "    .dataframe tbody tr th:only-of-type {\n",
       "        vertical-align: middle;\n",
       "    }\n",
       "\n",
       "    .dataframe tbody tr th {\n",
       "        vertical-align: top;\n",
       "    }\n",
       "\n",
       "    .dataframe thead th {\n",
       "        text-align: right;\n",
       "    }\n",
       "</style>\n",
       "<table border=\"1\" class=\"dataframe\">\n",
       "  <thead>\n",
       "    <tr style=\"text-align: right;\">\n",
       "      <th></th>\n",
       "      <th>Age</th>\n",
       "      <th>Condition</th>\n",
       "      <th>Date</th>\n",
       "      <th>Drug</th>\n",
       "      <th>DrugId</th>\n",
       "      <th>EaseofUse</th>\n",
       "      <th>Effectiveness</th>\n",
       "      <th>Reviews</th>\n",
       "      <th>Satisfaction</th>\n",
       "      <th>Sex</th>\n",
       "      <th>Sides</th>\n",
       "      <th>UsefulCount</th>\n",
       "    </tr>\n",
       "  </thead>\n",
       "  <tbody>\n",
       "    <tr>\n",
       "      <th>0</th>\n",
       "      <td>75 or over</td>\n",
       "      <td>Stuffy Nose</td>\n",
       "      <td>9/21/2014</td>\n",
       "      <td>25dph-7.5peh</td>\n",
       "      <td>146724</td>\n",
       "      <td>1</td>\n",
       "      <td>1</td>\n",
       "      <td>I'm a retired physician and of all the meds I ...</td>\n",
       "      <td>1</td>\n",
       "      <td>Male</td>\n",
       "      <td>Drowsiness,  dizziness ,  dry mouth /nose/thro...</td>\n",
       "      <td>0</td>\n",
       "    </tr>\n",
       "    <tr>\n",
       "      <th>1</th>\n",
       "      <td>25-34</td>\n",
       "      <td>Cold Symptoms</td>\n",
       "      <td>1/13/2011</td>\n",
       "      <td>25dph-7.5peh</td>\n",
       "      <td>146724</td>\n",
       "      <td>1</td>\n",
       "      <td>1</td>\n",
       "      <td>cleared me right up even with my throat hurtin...</td>\n",
       "      <td>1</td>\n",
       "      <td>Female</td>\n",
       "      <td>Drowsiness,  dizziness ,  dry mouth /nose/thro...</td>\n",
       "      <td>1</td>\n",
       "    </tr>\n",
       "    <tr>\n",
       "      <th>2</th>\n",
       "      <td>25-34</td>\n",
       "      <td>Birth Control</td>\n",
       "      <td>6/15/2017</td>\n",
       "      <td>wymzya fe</td>\n",
       "      <td>163180</td>\n",
       "      <td>1</td>\n",
       "      <td>1</td>\n",
       "      <td>Haven't gotten pregnant so it does it's job. I...</td>\n",
       "      <td>0</td>\n",
       "      <td>Female</td>\n",
       "      <td>Nausea ,  vomiting ,  headache ,  bloating ,  ...</td>\n",
       "      <td>0</td>\n",
       "    </tr>\n",
       "    <tr>\n",
       "      <th>3</th>\n",
       "      <td>45-54</td>\n",
       "      <td>Disease of Ovaries with Cysts</td>\n",
       "      <td>1/30/2017</td>\n",
       "      <td>wymzya fe</td>\n",
       "      <td>163180</td>\n",
       "      <td>1</td>\n",
       "      <td>1</td>\n",
       "      <td>I have take this for 5 years age 45-50 to prev...</td>\n",
       "      <td>1</td>\n",
       "      <td>Female</td>\n",
       "      <td>Nausea ,  vomiting ,  headache ,  bloating ,  ...</td>\n",
       "      <td>0</td>\n",
       "    </tr>\n",
       "    <tr>\n",
       "      <th>4</th>\n",
       "      <td>55-64</td>\n",
       "      <td>Stuffy Nose</td>\n",
       "      <td>10/29/2012</td>\n",
       "      <td>12 hour nasal relief spray, non-aerosol</td>\n",
       "      <td>9800</td>\n",
       "      <td>1</td>\n",
       "      <td>0</td>\n",
       "      <td>The 12 hour spray only works for me for 6 hours.</td>\n",
       "      <td>0</td>\n",
       "      <td>Male</td>\n",
       "      <td>Temporary burning, stinging, dryness in the no...</td>\n",
       "      <td>0</td>\n",
       "    </tr>\n",
       "  </tbody>\n",
       "</table>\n",
       "</div>"
      ],
      "text/plain": [
       "          Age                      Condition        Date  \\\n",
       "0  75 or over                    Stuffy Nose   9/21/2014   \n",
       "1       25-34                  Cold Symptoms   1/13/2011   \n",
       "2       25-34                  Birth Control   6/15/2017   \n",
       "3       45-54  Disease of Ovaries with Cysts   1/30/2017   \n",
       "4       55-64                    Stuffy Nose  10/29/2012   \n",
       "\n",
       "                                      Drug  DrugId  EaseofUse  Effectiveness  \\\n",
       "0                             25dph-7.5peh  146724          1              1   \n",
       "1                             25dph-7.5peh  146724          1              1   \n",
       "2                                wymzya fe  163180          1              1   \n",
       "3                                wymzya fe  163180          1              1   \n",
       "4  12 hour nasal relief spray, non-aerosol    9800          1              0   \n",
       "\n",
       "                                             Reviews  Satisfaction     Sex  \\\n",
       "0  I'm a retired physician and of all the meds I ...             1    Male   \n",
       "1  cleared me right up even with my throat hurtin...             1  Female   \n",
       "2  Haven't gotten pregnant so it does it's job. I...             0  Female   \n",
       "3  I have take this for 5 years age 45-50 to prev...             1  Female   \n",
       "4   The 12 hour spray only works for me for 6 hours.             0    Male   \n",
       "\n",
       "                                               Sides  UsefulCount  \n",
       "0  Drowsiness,  dizziness ,  dry mouth /nose/thro...            0  \n",
       "1  Drowsiness,  dizziness ,  dry mouth /nose/thro...            1  \n",
       "2  Nausea ,  vomiting ,  headache ,  bloating ,  ...            0  \n",
       "3  Nausea ,  vomiting ,  headache ,  bloating ,  ...            0  \n",
       "4  Temporary burning, stinging, dryness in the no...            0  "
      ]
     },
     "execution_count": 23,
     "metadata": {},
     "output_type": "execute_result"
    }
   ],
   "source": [
    "df_.head()"
   ]
  },
  {
   "cell_type": "code",
   "execution_count": 24,
   "id": "8b1fe856",
   "metadata": {
    "ExecuteTime": {
     "end_time": "2022-02-14T09:41:25.622226Z",
     "start_time": "2022-02-14T09:41:25.559930Z"
    }
   },
   "outputs": [],
   "source": [
    "# get `patient_id` column\n",
    "df_['patient_id'] = [i for i in range(len(df_))]"
   ]
  },
  {
   "cell_type": "markdown",
   "id": "81a1915a",
   "metadata": {},
   "source": [
    "### Node to dictionary for feature"
   ]
  },
  {
   "cell_type": "code",
   "execution_count": 25,
   "id": "a55d1965",
   "metadata": {
    "ExecuteTime": {
     "end_time": "2022-02-14T09:41:25.947301Z",
     "start_time": "2022-02-14T09:41:25.944088Z"
    }
   },
   "outputs": [],
   "source": [
    "def get_dict(df, column : str):\n",
    "    index = 0\n",
    "    val_lst = [i for i in df[column].value_counts().index]\n",
    "    \n",
    "    dictionary = {}\n",
    "    \n",
    "    for i in val_lst:\n",
    "        dictionary[i] = index\n",
    "        index += 1\n",
    "    return dictionary"
   ]
  },
  {
   "cell_type": "markdown",
   "id": "5b2b3e4b",
   "metadata": {},
   "source": [
    "- drug_id indexing for creating graph \\\n",
    "  -> it must start from 0~ in a row"
   ]
  },
  {
   "cell_type": "code",
   "execution_count": 26,
   "id": "b0f16020",
   "metadata": {
    "ExecuteTime": {
     "end_time": "2022-02-14T09:41:26.053645Z",
     "start_time": "2022-02-14T09:41:25.996300Z"
    }
   },
   "outputs": [],
   "source": [
    "# get_druc_dict\n",
    "drug_dict = get_dict(df_, 'DrugId')\n",
    "\n",
    "# get_feature_dict_of_patient\n",
    "patient_feat_dict = get_dict(df_, ['Age', 'Sex'])\n",
    "\n",
    "# get_feature_dict_of_condition\n",
    "cond_dict = get_dict(df_, 'Condition')\n"
   ]
  },
  {
   "cell_type": "markdown",
   "id": "58b1d57d",
   "metadata": {},
   "source": [
    "<img src=\"./images/2.png\" width =\"600\">"
   ]
  },
  {
   "cell_type": "markdown",
   "id": "c163ad47",
   "metadata": {},
   "source": [
    "- drug : side_effect dictionary"
   ]
  },
  {
   "cell_type": "code",
   "execution_count": 27,
   "id": "c2729b0f",
   "metadata": {
    "ExecuteTime": {
     "end_time": "2022-02-14T09:41:30.383837Z",
     "start_time": "2022-02-14T09:41:26.096881Z"
    }
   },
   "outputs": [],
   "source": [
    "### Drug Feature\n",
    "\n",
    "# drug_side_dict\n",
    "drug_side_dict = {}\n",
    "\n",
    "### most frequency side effect of each drug (dictionary)\n",
    "for i in drug_dict.keys():\n",
    "    most_side = df_[df_['DrugId']==i]['Sides'].value_counts().index[0]\n",
    "    drug_side_dict[i] = most_side\n",
    "\n",
    "\n",
    "# side_dict (Cause of sides duplicate, using set)\n",
    "side_dict = {}\n",
    "index = 0\n",
    "side_set = set()\n",
    "side_set.update(drug_side_dict.values())\n",
    "\n",
    "# side effect dictionary\n",
    "for j in side_set:\n",
    "    side_dict[j] = index\n",
    "    index += 1\n",
    "\n",
    "\n",
    "# drug_feat_dict\n",
    "drug_feat_dict = {}\n",
    "\n",
    "for i in drug_side_dict.keys():\n",
    "    drug_feat_dict[drug_dict[i]] = side_dict[drug_side_dict[i]]"
   ]
  },
  {
   "cell_type": "code",
   "execution_count": 28,
   "id": "e961e45a",
   "metadata": {
    "ExecuteTime": {
     "end_time": "2022-02-14T09:41:30.386588Z",
     "start_time": "2022-02-14T09:41:30.384932Z"
    }
   },
   "outputs": [],
   "source": [
    "# # embedding features\n",
    "# def get_embed(len_keys, lst, embed_n):\n",
    "\n",
    "#     embedding_table = nn.Embedding(num_embeddings=len_keys, \n",
    "#                                embedding_dim=embed_n)\n",
    "\n",
    "    \n",
    "#     embed_feat = embedding_table(torch.LongTensor(lst))\n",
    "\n",
    "#     return embed_feat\n",
    "\n",
    "# ### Patient Feature\n",
    "# # get_feature lst\n",
    "# patient_f_lst = [patient_feat_dict[(df_['Age'][i], df_['Sex'][i])] for i in range(len(df_))]\n",
    "\n",
    "# # patient embedding\n",
    "# patient_embed = get_embed(len(patient_feat_dict.keys()), patient_f_lst, 10)    # ( 280127 * 10 ) -> 280127 types\n",
    "\n",
    "\n",
    "# ### Condition Feature\n",
    "# # condition feature lst\n",
    "# cond_f_lst = [i for i in range(len(cond_dict.values()))]\n",
    "\n",
    "# # condition embedding\n",
    "# cond_embed = get_embed(len(cond_dict.values()), cond_f_lst, 10)    # ( 1584 * 10 ) -> 1584 types\n",
    "\n",
    "\n",
    "# ### drug Feature\n",
    "# # drug feature lst\n",
    "# drug_f_lst = [i for i in drug_feat_dict.values()]\n",
    "\n",
    "# # drug embedding\n",
    "# drug_embed = get_embed(len(drug_feat_dict.keys()), drug_f_lst, 10)   # ( 4522 * 10 ) -> 1557 types"
   ]
  },
  {
   "cell_type": "markdown",
   "id": "b799297f",
   "metadata": {},
   "source": [
    "### Create Heterogeneous Graph"
   ]
  },
  {
   "cell_type": "code",
   "execution_count": 29,
   "id": "312b8576",
   "metadata": {
    "ExecuteTime": {
     "end_time": "2022-02-14T09:41:31.227674Z",
     "start_time": "2022-02-14T09:41:30.387613Z"
    }
   },
   "outputs": [],
   "source": [
    "def get_n_arr(dataframe, dictionary, column):    \n",
    "    num_lst = [int(dictionary[i]) for i in dataframe[column]]\n",
    "    \n",
    "    return np.array(num_lst)\n",
    "\n",
    "# arr list\n",
    "\"\"\"\n",
    "patient_arr / drug_arr / cond_arr\n",
    "\"\"\"\n",
    "\n",
    "patient_arr = np.array(df_['patient_id'])\n",
    "\n",
    "# mapping using dictionary\n",
    "drug_arr = get_n_arr(df_, drug_dict, 'DrugId')\n",
    "cond_arr = get_n_arr(df_, cond_dict, 'Condition')\n",
    "\n",
    "label_arr = torch.tensor(df_['Satisfaction'])"
   ]
  },
  {
   "cell_type": "markdown",
   "id": "e66cdbd8",
   "metadata": {},
   "source": [
    "- node : [`patient`, `drug`, `condition`]\n",
    "- edge : \n",
    "  - (`patient`, `satisfaction`, `drug`) : `label`\n",
    "  - (`condition`, `symptom`, `patient`)\n",
    "  - (`drug`, `Effectiveness`, `condition`)"
   ]
  },
  {
   "cell_type": "markdown",
   "id": "f0c836bf",
   "metadata": {},
   "source": [
    "### train / Inference data"
   ]
  },
  {
   "cell_type": "code",
   "execution_count": 30,
   "id": "872eeb07",
   "metadata": {
    "ExecuteTime": {
     "end_time": "2022-02-14T09:41:31.231088Z",
     "start_time": "2022-02-14T09:41:31.228798Z"
    }
   },
   "outputs": [
    {
     "data": {
      "text/plain": [
       "(280127, 13)"
      ]
     },
     "execution_count": 30,
     "metadata": {},
     "output_type": "execute_result"
    }
   ],
   "source": [
    "df_.shape"
   ]
  },
  {
   "cell_type": "code",
   "execution_count": 31,
   "id": "2e9317a4",
   "metadata": {
    "ExecuteTime": {
     "end_time": "2022-02-14T09:41:31.255607Z",
     "start_time": "2022-02-14T09:41:31.231889Z"
    }
   },
   "outputs": [],
   "source": [
    "train_bool = torch.zeros(len(df_), dtype=torch.bool).bernoulli(0.9)\n",
    "inf_bool = ~train_bool"
   ]
  },
  {
   "cell_type": "code",
   "execution_count": 32,
   "id": "7601b37a",
   "metadata": {
    "ExecuteTime": {
     "end_time": "2022-02-14T09:41:31.284673Z",
     "start_time": "2022-02-14T09:41:31.256951Z"
    }
   },
   "outputs": [
    {
     "name": "stdout",
     "output_type": "stream",
     "text": [
      "251820\n"
     ]
    },
    {
     "data": {
      "text/plain": [
       "Int64Index([     0,      1,      2,      3,      4,      5,      6,      7,\n",
       "                 8,      9,\n",
       "            ...\n",
       "            280114, 280115, 280116, 280117, 280118, 280119, 280121, 280122,\n",
       "            280123, 280125],\n",
       "           dtype='int64', length=251820)"
      ]
     },
     "execution_count": 32,
     "metadata": {},
     "output_type": "execute_result"
    }
   ],
   "source": [
    "train_index = df_.iloc[patient_arr[train_bool],:].index\n",
    "print(len(train_index))\n",
    "train_index"
   ]
  },
  {
   "cell_type": "code",
   "execution_count": 33,
   "id": "29cad341",
   "metadata": {
    "ExecuteTime": {
     "end_time": "2022-02-14T09:41:31.294377Z",
     "start_time": "2022-02-14T09:41:31.285719Z"
    },
    "scrolled": true
   },
   "outputs": [
    {
     "name": "stdout",
     "output_type": "stream",
     "text": [
      "28307\n"
     ]
    },
    {
     "data": {
      "text/plain": [
       "Int64Index([    12,     38,     46,     56,     64,     69,     70,     75,\n",
       "                77,     80,\n",
       "            ...\n",
       "            280014, 280027, 280041, 280062, 280082, 280086, 280108, 280120,\n",
       "            280124, 280126],\n",
       "           dtype='int64', length=28307)"
      ]
     },
     "execution_count": 33,
     "metadata": {},
     "output_type": "execute_result"
    }
   ],
   "source": [
    "inf_index = df_.iloc[patient_arr[inf_bool],:].index\n",
    "print(len(inf_index))\n",
    "inf_index"
   ]
  },
  {
   "cell_type": "code",
   "execution_count": 34,
   "id": "fb52d9f2",
   "metadata": {
    "ExecuteTime": {
     "end_time": "2022-02-14T09:41:31.319562Z",
     "start_time": "2022-02-14T09:41:31.295720Z"
    }
   },
   "outputs": [],
   "source": [
    "df_t = df_.iloc[train_index, :]\n",
    "df_inf = df_.iloc[inf_index, :]"
   ]
  },
  {
   "cell_type": "code",
   "execution_count": 35,
   "id": "bd091c89",
   "metadata": {
    "ExecuteTime": {
     "end_time": "2022-02-14T09:41:31.399249Z",
     "start_time": "2022-02-14T09:41:31.320782Z"
    }
   },
   "outputs": [
    {
     "name": "stderr",
     "output_type": "stream",
     "text": [
      "<ipython-input-35-f8d93126daef>:1: SettingWithCopyWarning: \n",
      "A value is trying to be set on a copy of a slice from a DataFrame.\n",
      "Try using .loc[row_indexer,col_indexer] = value instead\n",
      "\n",
      "See the caveats in the documentation: https://pandas.pydata.org/pandas-docs/stable/user_guide/indexing.html#returning-a-view-versus-a-copy\n",
      "  df_t['patient_id'] = [i for i in range(len(df_t))]\n",
      "<ipython-input-35-f8d93126daef>:5: SettingWithCopyWarning: \n",
      "A value is trying to be set on a copy of a slice from a DataFrame.\n",
      "Try using .loc[row_indexer,col_indexer] = value instead\n",
      "\n",
      "See the caveats in the documentation: https://pandas.pydata.org/pandas-docs/stable/user_guide/indexing.html#returning-a-view-versus-a-copy\n",
      "  df_inf['patient_id'] = [i for i in range(len(df_inf))]\n"
     ]
    }
   ],
   "source": [
    "df_t['patient_id'] = [i for i in range(len(df_t))]\n",
    "df_t = df_t.reset_index(drop=True)\n",
    "\n",
    "\n",
    "df_inf['patient_id'] = [i for i in range(len(df_inf))]\n",
    "df_inf = df_inf.reset_index(drop=True)"
   ]
  },
  {
   "cell_type": "markdown",
   "id": "dc503695",
   "metadata": {},
   "source": [
    "- drug_side_dict : 가장 빈번한 Side Effect 를 매칭시키기 위한 dictionary\n",
    "    - **different drug -> same side**\n",
    "- side_dict : 위에서 정의된 Side Effect 인덱스 번호"
   ]
  },
  {
   "cell_type": "code",
   "execution_count": 36,
   "id": "a5bc4f71",
   "metadata": {
    "ExecuteTime": {
     "end_time": "2022-02-14T09:41:32.926655Z",
     "start_time": "2022-02-14T09:41:32.806371Z"
    }
   },
   "outputs": [],
   "source": [
    "### train array\n",
    "patient_arr_t = np.array(df_t['patient_id'])\n",
    "drug_arr_t = get_n_arr(df_t, drug_dict, 'DrugId')\n",
    "cond_arr_t = get_n_arr(df_t, cond_dict, 'Condition')\n",
    "\n",
    "label_arr_t = torch.tensor(list(df_t['Satisfaction']))"
   ]
  },
  {
   "cell_type": "code",
   "execution_count": 37,
   "id": "018c474b",
   "metadata": {
    "ExecuteTime": {
     "end_time": "2022-02-14T09:41:37.186033Z",
     "start_time": "2022-02-14T09:41:37.182965Z"
    }
   },
   "outputs": [
    {
     "data": {
      "text/plain": [
       "(251820,)"
      ]
     },
     "execution_count": 37,
     "metadata": {},
     "output_type": "execute_result"
    }
   ],
   "source": [
    "patient_arr_t.shape"
   ]
  },
  {
   "cell_type": "code",
   "execution_count": 38,
   "id": "d68de96c",
   "metadata": {
    "ExecuteTime": {
     "end_time": "2022-02-14T09:41:37.250771Z",
     "start_time": "2022-02-14T09:41:37.248052Z"
    }
   },
   "outputs": [
    {
     "data": {
      "text/plain": [
       "(251820,)"
      ]
     },
     "execution_count": 38,
     "metadata": {},
     "output_type": "execute_result"
    }
   ],
   "source": [
    "drug_arr_t.shape"
   ]
  },
  {
   "cell_type": "code",
   "execution_count": 39,
   "id": "6fa6eed5",
   "metadata": {
    "ExecuteTime": {
     "end_time": "2022-02-14T09:41:37.548006Z",
     "start_time": "2022-02-14T09:41:37.529857Z"
    }
   },
   "outputs": [],
   "source": [
    "### TRAIN data\n",
    "hetero_graph_t = dgl.heterograph({\n",
    "    ('patient', 'satisfaction', 'drug'): (patient_arr_t, drug_arr_t),\n",
    "    ('condition', 'symptom', 'patient'): (cond_arr_t, patient_arr_t),\n",
    "    ('drug', 'Easy', 'patient'): (drug_arr_t[df_t['EaseofUse']==1], patient_arr_t[df_t['EaseofUse']==1]),\n",
    "    ('drug', 'Effectiveness', 'condition'): (drug_arr_t[df_t['Effectiveness']==1], cond_arr_t[df_t['Effectiveness']==1])\n",
    "      })"
   ]
  },
  {
   "cell_type": "code",
   "execution_count": 40,
   "id": "fc06f2ed",
   "metadata": {
    "ExecuteTime": {
     "end_time": "2022-02-14T09:41:37.936946Z",
     "start_time": "2022-02-14T09:41:37.933525Z"
    }
   },
   "outputs": [
    {
     "data": {
      "text/plain": [
       "Graph(num_nodes={'condition': 1584, 'drug': 4522, 'patient': 251820},\n",
       "      num_edges={('condition', 'symptom', 'patient'): 251820, ('drug', 'Easy', 'patient'): 186580, ('drug', 'Effectiveness', 'condition'): 147499, ('patient', 'satisfaction', 'drug'): 251820},\n",
       "      metagraph=[('condition', 'patient', 'symptom'), ('patient', 'drug', 'satisfaction'), ('drug', 'patient', 'Easy'), ('drug', 'condition', 'Effectiveness')])"
      ]
     },
     "execution_count": 40,
     "metadata": {},
     "output_type": "execute_result"
    }
   ],
   "source": [
    "hetero_graph_t"
   ]
  },
  {
   "cell_type": "markdown",
   "id": "b7fdd159",
   "metadata": {},
   "source": [
    "### Node_Feature_Embedding"
   ]
  },
  {
   "cell_type": "code",
   "execution_count": 41,
   "id": "6b254f57",
   "metadata": {
    "ExecuteTime": {
     "end_time": "2022-02-14T09:41:41.580857Z",
     "start_time": "2022-02-14T09:41:41.577612Z"
    }
   },
   "outputs": [
    {
     "data": {
      "text/plain": [
       "(251820, 13)"
      ]
     },
     "execution_count": 41,
     "metadata": {},
     "output_type": "execute_result"
    }
   ],
   "source": [
    "df_t.shape"
   ]
  },
  {
   "cell_type": "code",
   "execution_count": 42,
   "id": "cb668dbe",
   "metadata": {
    "ExecuteTime": {
     "end_time": "2022-02-14T09:41:42.156971Z",
     "start_time": "2022-02-14T09:41:42.154124Z"
    }
   },
   "outputs": [],
   "source": [
    "# embedding features\n",
    "def get_embed(len_keys, lst, embed_n):\n",
    "\n",
    "    embedding_table = nn.Embedding(num_embeddings=len_keys, \n",
    "                               embedding_dim=embed_n)\n",
    "\n",
    "    \n",
    "    embed_feat = embedding_table(torch.LongTensor(lst))\n",
    "\n",
    "    return embed_feat"
   ]
  },
  {
   "cell_type": "code",
   "execution_count": 73,
   "id": "10234646",
   "metadata": {
    "ExecuteTime": {
     "end_time": "2022-02-14T09:46:08.753528Z",
     "start_time": "2022-02-14T09:46:08.750114Z"
    }
   },
   "outputs": [
    {
     "data": {
      "text/plain": [
       "(280127, 13)"
      ]
     },
     "execution_count": 73,
     "metadata": {},
     "output_type": "execute_result"
    }
   ],
   "source": [
    "df_.shape"
   ]
  },
  {
   "cell_type": "code",
   "execution_count": 75,
   "id": "e23389a5",
   "metadata": {
    "ExecuteTime": {
     "end_time": "2022-02-14T09:48:13.828033Z",
     "start_time": "2022-02-14T09:48:11.757476Z"
    }
   },
   "outputs": [],
   "source": [
    "### Patient Feature\n",
    "# get_feature lst\n",
    "patient_f_lst = [patient_feat_dict[(df_['Age'][i], df_['Sex'][i])] for i in range(len(df_))]\n",
    "\n",
    "# patient embedding\n",
    "patient_embed = get_embed(len(patient_feat_dict.keys()), patient_f_lst, 10)    # ( 280127 * 10 ) -> 22 types\n",
    "\n",
    "patient_embed_t = patient_embed[: hetero_graph_t.num_nodes('patient'), : ]\n",
    "\n",
    "### Condition Feature\n",
    "# condition feature lst\n",
    "cond_f_lst = [i for i in range(len(cond_dict.values()))]\n",
    "\n",
    "# condition embedding\n",
    "cond_embed = get_embed(len(cond_dict.values()), cond_f_lst, 10)    # ( 1584 * 10 ) -> 1584 Condition types\n",
    "\n",
    "cond_embed_t = cond_embed[:hetero_graph_t.num_nodes('condition'), : ]   # ( 1584 * 10 ) -> 1584 training Condition types\n",
    "\n",
    "### drug Feature\n",
    "# drug feature lst\n",
    "drug_f_lst = [i for i in drug_feat_dict.values()]\n",
    "\n",
    "# drug embedding\n",
    "drug_embed = get_embed(len(drug_feat_dict.keys()), drug_f_lst, 10)   # ( 4522 * 10 ) -> 4522 drug types and 1557 side effect types\n",
    "\n",
    "drug_embed_t = drug_embed[: hetero_graph_t.num_nodes('drug'), : ]    # ( 4522 * 10 ) -> 4522 training drug types and 1557 side effect types"
   ]
  },
  {
   "cell_type": "code",
   "execution_count": 76,
   "id": "be71ee09",
   "metadata": {
    "ExecuteTime": {
     "end_time": "2022-02-14T09:48:13.832175Z",
     "start_time": "2022-02-14T09:48:13.829161Z"
    },
    "scrolled": true
   },
   "outputs": [
    {
     "name": "stdout",
     "output_type": "stream",
     "text": [
      "Patient\n",
      "torch.Size([251820, 10])\n",
      "------------------\n",
      "Condition\n",
      "torch.Size([1584, 10])\n",
      "------------------\n",
      "Drug\n",
      "torch.Size([4522, 10])\n"
     ]
    }
   ],
   "source": [
    "print('Patient')\n",
    "print(patient_embed_t.shape)\n",
    "\n",
    "print('------------------')\n",
    "print('Condition')\n",
    "print(cond_embed_t.shape)\n",
    "\n",
    "print('------------------')\n",
    "print('Drug')\n",
    "print(drug_embed_t.shape)"
   ]
  },
  {
   "cell_type": "code",
   "execution_count": 77,
   "id": "fa9da9ba",
   "metadata": {
    "ExecuteTime": {
     "end_time": "2022-02-14T09:48:16.215860Z",
     "start_time": "2022-02-14T09:48:16.212437Z"
    }
   },
   "outputs": [
    {
     "data": {
      "text/plain": [
       "Graph(num_nodes={'condition': 1584, 'drug': 4522, 'patient': 251820},\n",
       "      num_edges={('condition', 'symptom', 'patient'): 251820, ('drug', 'Easy', 'patient'): 186580, ('drug', 'Effectiveness', 'condition'): 147499, ('patient', 'satisfaction', 'drug'): 251820},\n",
       "      metagraph=[('condition', 'patient', 'symptom'), ('patient', 'drug', 'satisfaction'), ('drug', 'patient', 'Easy'), ('drug', 'condition', 'Effectiveness')])"
      ]
     },
     "execution_count": 77,
     "metadata": {},
     "output_type": "execute_result"
    }
   ],
   "source": [
    "hetero_graph_t"
   ]
  },
  {
   "cell_type": "code",
   "execution_count": 78,
   "id": "461824c5",
   "metadata": {
    "ExecuteTime": {
     "end_time": "2022-02-14T09:48:16.908318Z",
     "start_time": "2022-02-14T09:48:16.904998Z"
    }
   },
   "outputs": [],
   "source": [
    "## node feature and labeling\n",
    "\n",
    "# train data\n",
    "hetero_graph_t.edges['satisfaction'].data['label'] = label_arr_t\n",
    "hetero_graph_t.nodes['patient'].data['feature'] = patient_embed_t\n",
    "hetero_graph_t.nodes['drug'].data['feature'] = drug_embed_t\n",
    "hetero_graph_t.nodes['condition'].data['feature'] = cond_embed_t"
   ]
  },
  {
   "cell_type": "code",
   "execution_count": 79,
   "id": "c4370993",
   "metadata": {
    "ExecuteTime": {
     "end_time": "2022-02-14T09:48:17.675296Z",
     "start_time": "2022-02-14T09:48:17.671868Z"
    }
   },
   "outputs": [
    {
     "data": {
      "text/plain": [
       "Graph(num_nodes={'condition': 1584, 'drug': 4522, 'patient': 251820},\n",
       "      num_edges={('condition', 'symptom', 'patient'): 251820, ('drug', 'Easy', 'patient'): 186580, ('drug', 'Effectiveness', 'condition'): 147499, ('patient', 'satisfaction', 'drug'): 251820},\n",
       "      metagraph=[('condition', 'patient', 'symptom'), ('patient', 'drug', 'satisfaction'), ('drug', 'patient', 'Easy'), ('drug', 'condition', 'Effectiveness')])"
      ]
     },
     "execution_count": 79,
     "metadata": {},
     "output_type": "execute_result"
    }
   ],
   "source": [
    "hetero_graph_t"
   ]
  },
  {
   "cell_type": "markdown",
   "id": "193b9d7d",
   "metadata": {},
   "source": [
    "### model"
   ]
  },
  {
   "cell_type": "code",
   "execution_count": 80,
   "id": "e88cd1f5",
   "metadata": {
    "ExecuteTime": {
     "end_time": "2022-02-14T09:48:19.214744Z",
     "start_time": "2022-02-14T09:48:19.212345Z"
    }
   },
   "outputs": [],
   "source": [
    "import dgl.nn as dglnn\n",
    "import torch.nn as nn\n",
    "import torch.nn.functional as F"
   ]
  },
  {
   "cell_type": "code",
   "execution_count": 81,
   "id": "06add2a1",
   "metadata": {
    "ExecuteTime": {
     "end_time": "2022-02-14T09:48:19.370042Z",
     "start_time": "2022-02-14T09:48:19.365250Z"
    }
   },
   "outputs": [],
   "source": [
    "class RGCN(nn.Module):\n",
    "    def __init__(self, in_feats, hid_feats, out_feats, rel_names):\n",
    "        super().__init__()\n",
    "\n",
    "        self.conv1 = dglnn.HeteroGraphConv({\n",
    "            rel: dglnn.GraphConv(in_feats, hid_feats)\n",
    "            for rel in rel_names}, aggregate='sum')\n",
    "        \n",
    "        self.conv2 = dglnn.HeteroGraphConv({\n",
    "            rel: dglnn.GraphConv(hid_feats, out_feats)\n",
    "            for rel in rel_names}, aggregate='sum')\n",
    "\n",
    "\n",
    "    def forward(self, graph, inputs):\n",
    "        # inputs are features of nodes\n",
    "        h = self.conv1(graph, inputs)\n",
    "        h = {k: F.relu(v) for k, v in h.items()}\n",
    "        h = self.conv2(graph, h)\n",
    "        return h"
   ]
  },
  {
   "cell_type": "code",
   "execution_count": 82,
   "id": "3dd30be0",
   "metadata": {
    "ExecuteTime": {
     "end_time": "2022-02-14T09:48:19.525213Z",
     "start_time": "2022-02-14T09:48:19.520690Z"
    }
   },
   "outputs": [],
   "source": [
    "class HeteroMLPPredictor(nn.Module):\n",
    "    def __init__(self, in_dims, n_classes):\n",
    "        super().__init__() \n",
    "        self.W = nn.Linear(in_dims * 2, n_classes)\n",
    "\n",
    "    def apply_edges(self, edges):\n",
    "        x = torch.cat([edges.src['h'], edges.dst['h']], 1)\n",
    "        y = self.W(x)\n",
    "        return {'score': y}\n",
    "\n",
    "    def forward(self, graph, h):\n",
    "        # h contains the node representations for each edge type computed from\n",
    "        # the GNN for heterogeneous graphs defined in the node classification\n",
    "        # section (Section 5.1).\n",
    "        with graph.local_scope():\n",
    "            graph.ndata['h'] = h   # assigns 'h' of all node types in one shot\n",
    "            graph.apply_edges(self.apply_edges)\n",
    "            return graph.edata['score']"
   ]
  },
  {
   "cell_type": "code",
   "execution_count": 83,
   "id": "00874277",
   "metadata": {
    "ExecuteTime": {
     "end_time": "2022-02-14T09:48:20.701342Z",
     "start_time": "2022-02-14T09:48:20.696561Z"
    }
   },
   "outputs": [],
   "source": [
    "class Model(nn.Module):\n",
    "    def __init__(self, in_features, hidden_features, out_features, rel_names, bi_pred=False):\n",
    "        super().__init__()\n",
    "        self.sage = RGCN(in_features, hidden_features, out_features, rel_names)\n",
    "        \n",
    "        if bi_pred==False:\n",
    "            self.pred = HeteroMLPPredictor(out_features, len(rel_names))\n",
    "        else:\n",
    "            self.pred = HeteroMLPPredictor(out_features, 2)\n",
    "        \n",
    "    def forward(self, g, x, dec_graph):\n",
    "        h = self.sage(g, x)\n",
    "        h_2 = {'drug': h['drug'], 'patient': h['patient']}\n",
    "        return self.pred(dec_graph, h_2)"
   ]
  },
  {
   "cell_type": "markdown",
   "id": "1929ce5a",
   "metadata": {},
   "source": [
    "### Masking Task"
   ]
  },
  {
   "cell_type": "code",
   "execution_count": 84,
   "id": "20b9b59a",
   "metadata": {
    "ExecuteTime": {
     "end_time": "2022-02-14T09:48:20.989549Z",
     "start_time": "2022-02-14T09:48:20.983369Z"
    }
   },
   "outputs": [],
   "source": [
    "# edge length\n",
    "num_edges = len(hetero_graph_t.edata['label'][('patient', 'satisfaction', 'drug')])\n",
    "\n",
    "train_mask = torch.zeros(num_edges, dtype=torch.bool).bernoulli(0.8)\n",
    "val_mask = ~train_mask"
   ]
  },
  {
   "cell_type": "code",
   "execution_count": 85,
   "id": "1e79c5a0",
   "metadata": {
    "ExecuteTime": {
     "end_time": "2022-02-14T09:48:21.262146Z",
     "start_time": "2022-02-14T09:48:21.258792Z"
    }
   },
   "outputs": [
    {
     "data": {
      "text/plain": [
       "Graph(num_nodes={'condition': 1584, 'drug': 4522, 'patient': 251820},\n",
       "      num_edges={('condition', 'symptom', 'patient'): 251820, ('drug', 'Easy', 'patient'): 186580, ('drug', 'Effectiveness', 'condition'): 147499, ('patient', 'satisfaction', 'drug'): 251820},\n",
       "      metagraph=[('condition', 'patient', 'symptom'), ('patient', 'drug', 'satisfaction'), ('drug', 'patient', 'Easy'), ('drug', 'condition', 'Effectiveness')])"
      ]
     },
     "execution_count": 85,
     "metadata": {},
     "output_type": "execute_result"
    }
   ],
   "source": [
    "hetero_graph_t"
   ]
  },
  {
   "cell_type": "code",
   "execution_count": 86,
   "id": "d09c663b",
   "metadata": {
    "ExecuteTime": {
     "end_time": "2022-02-14T09:49:47.357903Z",
     "start_time": "2022-02-14T09:48:21.419824Z"
    },
    "scrolled": true
   },
   "outputs": [
    {
     "name": "stdout",
     "output_type": "stream",
     "text": [
      "--------- 0 ---------\n",
      "val_acc :  tensor(0.4679)\n",
      "--------- 5 ---------\n",
      "val_acc :  tensor(0.4520)\n",
      "--------- 10 ---------\n",
      "val_acc :  tensor(0.4725)\n",
      "--------- 15 ---------\n",
      "val_acc :  tensor(0.4842)\n",
      "--------- 20 ---------\n",
      "val_acc :  tensor(0.5048)\n",
      "--------- 25 ---------\n",
      "val_acc :  tensor(0.5107)\n",
      "--------- 30 ---------\n",
      "val_acc :  tensor(0.5154)\n",
      "--------- 35 ---------\n",
      "val_acc :  tensor(0.5240)\n",
      "--------- 40 ---------\n",
      "val_acc :  tensor(0.5347)\n",
      "--------- 45 ---------\n",
      "val_acc :  tensor(0.5441)\n",
      "--------- 50 ---------\n",
      "val_acc :  tensor(0.5522)\n",
      "--------- 55 ---------\n",
      "val_acc :  tensor(0.5579)\n",
      "--------- 60 ---------\n",
      "val_acc :  tensor(0.5653)\n",
      "--------- 65 ---------\n",
      "val_acc :  tensor(0.5716)\n",
      "--------- 70 ---------\n",
      "val_acc :  tensor(0.5813)\n",
      "--------- 75 ---------\n",
      "val_acc :  tensor(0.5874)\n",
      "--------- 80 ---------\n",
      "val_acc :  tensor(0.5930)\n",
      "--------- 85 ---------\n",
      "val_acc :  tensor(0.6038)\n",
      "--------- 90 ---------\n",
      "val_acc :  tensor(0.6156)\n",
      "--------- 95 ---------\n",
      "val_acc :  tensor(0.6252)\n",
      "--------- 100 ---------\n",
      "val_acc :  tensor(0.6324)\n",
      "--------- 105 ---------\n",
      "val_acc :  tensor(0.6366)\n",
      "--------- 110 ---------\n",
      "val_acc :  tensor(0.6463)\n",
      "--------- 115 ---------\n",
      "val_acc :  tensor(0.6515)\n",
      "--------- 120 ---------\n",
      "val_acc :  tensor(0.6538)\n",
      "--------- 125 ---------\n",
      "val_acc :  tensor(0.6573)\n",
      "--------- 130 ---------\n",
      "val_acc :  tensor(0.6613)\n",
      "--------- 135 ---------\n",
      "val_acc :  tensor(0.6636)\n",
      "--------- 140 ---------\n",
      "val_acc :  tensor(0.6661)\n",
      "--------- 145 ---------\n",
      "val_acc :  tensor(0.6681)\n",
      "--------- 150 ---------\n",
      "val_acc :  tensor(0.6682)\n",
      "--------- 155 ---------\n",
      "val_acc :  tensor(0.6691)\n",
      "--------- 160 ---------\n",
      "val_acc :  tensor(0.6690)\n",
      "--------- 165 ---------\n",
      "val_acc :  tensor(0.6695)\n",
      "--------- 170 ---------\n",
      "val_acc :  tensor(0.6705)\n",
      "--------- 175 ---------\n",
      "val_acc :  tensor(0.6713)\n",
      "--------- 180 ---------\n",
      "val_acc :  tensor(0.6723)\n",
      "--------- 185 ---------\n",
      "val_acc :  tensor(0.6722)\n",
      "--------- 190 ---------\n",
      "val_acc :  tensor(0.6741)\n",
      "--------- 195 ---------\n",
      "val_acc :  tensor(0.6743)\n",
      "--------- 200 ---------\n",
      "val_acc :  tensor(0.6747)\n",
      "--------- 205 ---------\n",
      "val_acc :  tensor(0.6749)\n",
      "--------- 210 ---------\n",
      "val_acc :  tensor(0.6755)\n",
      "--------- 215 ---------\n",
      "val_acc :  tensor(0.6755)\n",
      "--------- 220 ---------\n",
      "val_acc :  tensor(0.6761)\n",
      "--------- 225 ---------\n",
      "val_acc :  tensor(0.6764)\n",
      "--------- 230 ---------\n",
      "val_acc :  tensor(0.6766)\n",
      "--------- 235 ---------\n",
      "val_acc :  tensor(0.6769)\n",
      "--------- 240 ---------\n",
      "val_acc :  tensor(0.6772)\n",
      "--------- 245 ---------\n",
      "val_acc :  tensor(0.6773)\n",
      "--------- 250 ---------\n",
      "val_acc :  tensor(0.6770)\n",
      "--------- 255 ---------\n",
      "val_acc :  tensor(0.6773)\n",
      "--------- 260 ---------\n",
      "val_acc :  tensor(0.6769)\n",
      "--------- 265 ---------\n",
      "val_acc :  tensor(0.6777)\n",
      "--------- 270 ---------\n",
      "val_acc :  tensor(0.6791)\n",
      "--------- 275 ---------\n",
      "val_acc :  tensor(0.6789)\n",
      "--------- 280 ---------\n",
      "val_acc :  tensor(0.6788)\n",
      "--------- 285 ---------\n",
      "val_acc :  tensor(0.6785)\n",
      "--------- 290 ---------\n",
      "val_acc :  tensor(0.6787)\n",
      "--------- 295 ---------\n",
      "val_acc :  tensor(0.6791)\n"
     ]
    }
   ],
   "source": [
    "dec_graph_t = hetero_graph_t['patient', :, 'drug']\n",
    "\n",
    "label_arr_t = torch.tensor(list(df_t['Satisfaction']))\n",
    "\n",
    "model = Model(10, 20, 5, hetero_graph_t.etypes, 1)\n",
    "\n",
    "patient_feats_t = hetero_graph_t.nodes['patient'].data['feature']\n",
    "drug_feats_t = hetero_graph_t.nodes['drug'].data['feature']\n",
    "cond_feats_t = hetero_graph_t.nodes['condition'].data['feature']\n",
    "\n",
    "\n",
    "node_features_t = {'patient': patient_feats_t, 'drug': drug_feats_t, 'condition': cond_feats_t}\n",
    "\n",
    "dec_graph_t = hetero_graph_t['patient', :, 'drug']\n",
    "\n",
    "opt = torch.optim.Adam(model.parameters())\n",
    "\n",
    "for epoch in range(300):\n",
    "    logits = model(hetero_graph_t, node_features_t, dec_graph_t)\n",
    "    loss = F.cross_entropy(logits[train_mask], label_arr_t[train_mask])\n",
    "    opt.zero_grad()\n",
    "    loss.backward(retain_graph=True)\n",
    "    opt.step()\n",
    "\n",
    "    if epoch % 5 == 0:\n",
    "        acc_val = torchmetrics.functional.accuracy(logits[val_mask], label_arr_t[val_mask])\n",
    "        print(f\"--------- {epoch} ---------\")\n",
    "        print('val_acc : ', acc_val)"
   ]
  },
  {
   "cell_type": "markdown",
   "id": "afde7cf3",
   "metadata": {},
   "source": [
    "### Inference"
   ]
  },
  {
   "cell_type": "code",
   "execution_count": 61,
   "id": "11d8402f",
   "metadata": {
    "ExecuteTime": {
     "end_time": "2022-02-14T09:43:44.761427Z",
     "start_time": "2022-02-14T09:43:44.749783Z"
    },
    "scrolled": true
   },
   "outputs": [
    {
     "data": {
      "text/html": [
       "<div>\n",
       "<style scoped>\n",
       "    .dataframe tbody tr th:only-of-type {\n",
       "        vertical-align: middle;\n",
       "    }\n",
       "\n",
       "    .dataframe tbody tr th {\n",
       "        vertical-align: top;\n",
       "    }\n",
       "\n",
       "    .dataframe thead th {\n",
       "        text-align: right;\n",
       "    }\n",
       "</style>\n",
       "<table border=\"1\" class=\"dataframe\">\n",
       "  <thead>\n",
       "    <tr style=\"text-align: right;\">\n",
       "      <th></th>\n",
       "      <th>Age</th>\n",
       "      <th>Condition</th>\n",
       "      <th>Date</th>\n",
       "      <th>Drug</th>\n",
       "      <th>DrugId</th>\n",
       "      <th>EaseofUse</th>\n",
       "      <th>Effectiveness</th>\n",
       "      <th>Reviews</th>\n",
       "      <th>Satisfaction</th>\n",
       "      <th>Sex</th>\n",
       "      <th>Sides</th>\n",
       "      <th>UsefulCount</th>\n",
       "      <th>patient_id</th>\n",
       "    </tr>\n",
       "  </thead>\n",
       "  <tbody>\n",
       "    <tr>\n",
       "      <th>0</th>\n",
       "      <td>35-44</td>\n",
       "      <td>Birth Control</td>\n",
       "      <td>8/20/2015</td>\n",
       "      <td>lyza</td>\n",
       "      <td>164750</td>\n",
       "      <td>1</td>\n",
       "      <td>1</td>\n",
       "      <td>I have gained weight even with working out. I ...</td>\n",
       "      <td>0</td>\n",
       "      <td>Female</td>\n",
       "      <td>Nausea ,  vomiting ,  headache ,  bloating ,  ...</td>\n",
       "      <td>1</td>\n",
       "      <td>0</td>\n",
       "    </tr>\n",
       "    <tr>\n",
       "      <th>1</th>\n",
       "      <td>45-54</td>\n",
       "      <td>Abnormally Long or Heavy Periods</td>\n",
       "      <td>1/26/2013</td>\n",
       "      <td>lysteda</td>\n",
       "      <td>154120</td>\n",
       "      <td>1</td>\n",
       "      <td>1</td>\n",
       "      <td>I took Lysteda for about 18 months.  It defina...</td>\n",
       "      <td>0</td>\n",
       "      <td>Female</td>\n",
       "      <td>Nausea ,  vomiting ,  diarrhea , and  muscle p...</td>\n",
       "      <td>3</td>\n",
       "      <td>1</td>\n",
       "    </tr>\n",
       "    <tr>\n",
       "      <th>2</th>\n",
       "      <td>35-44</td>\n",
       "      <td>Abnormally Long or Heavy Periods</td>\n",
       "      <td>10/31/2012</td>\n",
       "      <td>lysteda</td>\n",
       "      <td>154120</td>\n",
       "      <td>1</td>\n",
       "      <td>1</td>\n",
       "      <td>This medication changed my life, I have always...</td>\n",
       "      <td>1</td>\n",
       "      <td>Female</td>\n",
       "      <td>Nausea ,  vomiting ,  diarrhea , and  muscle p...</td>\n",
       "      <td>3</td>\n",
       "      <td>2</td>\n",
       "    </tr>\n",
       "    <tr>\n",
       "      <th>3</th>\n",
       "      <td>25-34</td>\n",
       "      <td>Abnormally Long or Heavy Periods</td>\n",
       "      <td>6/30/2012</td>\n",
       "      <td>lysteda</td>\n",
       "      <td>154120</td>\n",
       "      <td>1</td>\n",
       "      <td>0</td>\n",
       "      <td>I had heavy periods most of my adult life. Lar...</td>\n",
       "      <td>0</td>\n",
       "      <td>Female</td>\n",
       "      <td>Nausea ,  vomiting ,  diarrhea , and  muscle p...</td>\n",
       "      <td>29</td>\n",
       "      <td>3</td>\n",
       "    </tr>\n",
       "    <tr>\n",
       "      <th>4</th>\n",
       "      <td>25-34</td>\n",
       "      <td>Abnormally Long or Heavy Periods</td>\n",
       "      <td>4/24/2012</td>\n",
       "      <td>lysteda</td>\n",
       "      <td>154120</td>\n",
       "      <td>1</td>\n",
       "      <td>1</td>\n",
       "      <td>my bleeding was really bad to the point that i...</td>\n",
       "      <td>1</td>\n",
       "      <td>Female</td>\n",
       "      <td>Nausea ,  vomiting ,  diarrhea , and  muscle p...</td>\n",
       "      <td>7</td>\n",
       "      <td>4</td>\n",
       "    </tr>\n",
       "  </tbody>\n",
       "</table>\n",
       "</div>"
      ],
      "text/plain": [
       "     Age                         Condition        Date     Drug  DrugId  \\\n",
       "0  35-44                     Birth Control   8/20/2015     lyza  164750   \n",
       "1  45-54  Abnormally Long or Heavy Periods   1/26/2013  lysteda  154120   \n",
       "2  35-44  Abnormally Long or Heavy Periods  10/31/2012  lysteda  154120   \n",
       "3  25-34  Abnormally Long or Heavy Periods   6/30/2012  lysteda  154120   \n",
       "4  25-34  Abnormally Long or Heavy Periods   4/24/2012  lysteda  154120   \n",
       "\n",
       "   EaseofUse  Effectiveness  \\\n",
       "0          1              1   \n",
       "1          1              1   \n",
       "2          1              1   \n",
       "3          1              0   \n",
       "4          1              1   \n",
       "\n",
       "                                             Reviews  Satisfaction     Sex  \\\n",
       "0  I have gained weight even with working out. I ...             0  Female   \n",
       "1  I took Lysteda for about 18 months.  It defina...             0  Female   \n",
       "2  This medication changed my life, I have always...             1  Female   \n",
       "3  I had heavy periods most of my adult life. Lar...             0  Female   \n",
       "4  my bleeding was really bad to the point that i...             1  Female   \n",
       "\n",
       "                                               Sides  UsefulCount  patient_id  \n",
       "0  Nausea ,  vomiting ,  headache ,  bloating ,  ...            1           0  \n",
       "1  Nausea ,  vomiting ,  diarrhea , and  muscle p...            3           1  \n",
       "2  Nausea ,  vomiting ,  diarrhea , and  muscle p...            3           2  \n",
       "3  Nausea ,  vomiting ,  diarrhea , and  muscle p...           29           3  \n",
       "4  Nausea ,  vomiting ,  diarrhea , and  muscle p...            7           4  "
      ]
     },
     "execution_count": 61,
     "metadata": {},
     "output_type": "execute_result"
    }
   ],
   "source": [
    "df_inf.head()"
   ]
  },
  {
   "cell_type": "code",
   "execution_count": 62,
   "id": "7d3ab63c",
   "metadata": {
    "ExecuteTime": {
     "end_time": "2022-02-14T09:43:48.569741Z",
     "start_time": "2022-02-14T09:43:48.567489Z"
    }
   },
   "outputs": [],
   "source": [
    "# ### inference array\n",
    "# patient_arr_inf = np.array(df_inf['patient_id'])\n",
    "# drug_arr_inf = get_n_arr(df_inf, drug_dict, 'DrugId')\n",
    "# cond_arr_inf = get_n_arr(df_inf, cond_dict, 'Condition')\n",
    "\n",
    "# label_arr_inf = torch.tensor(list(df_inf['Satisfaction']))\n",
    "\n",
    "\n",
    "# ### INFERENCE data\n",
    "# hetero_graph_inf = dgl.heterograph({\n",
    "#     ('patient', 'satisfaction', 'drug'): (patient_arr_inf, drug_arr_inf),\n",
    "#     ('condition', 'symptom', 'patient'): (cond_arr_inf, patient_arr_inf),\n",
    "#     ('drug', 'Easy', 'patient'): (drug_arr_inf[df_inf['EaseofUse']==1], patient_arr_inf[df_inf['EaseofUse']==1]),\n",
    "#     ('drug', 'Effectiveness', 'condition'): (drug_arr_inf[df_inf['Effectiveness']==1], cond_arr_inf[df_inf['Effectiveness']==1])\n",
    "#       })\n",
    "\n",
    "# # inference patient embedding \n",
    "# patient_feat_lst_inf = [(df_inf['Age'][i], df_inf['Sex'][i]) for i in range(len(df_inf))]\n",
    "# patient_embed_inf = get_embed(patient_feat_dict, patient_feat_lst_inf, 10)\n",
    "\n",
    "\n",
    "# # inference condition embedding\n",
    "# cond_lst_inf = [i for i in range(max(cond_arr_inf)+1)]\n",
    "# cond_embed_inf = cond_embed_table(torch.LongTensor(cond_lst_inf))\n",
    "\n",
    "\n",
    "# # inference_drug_feature embedding\n",
    "# drug_embed_inf = drug_embed_table(torch.LongTensor([drug_feat_dict[i] for i in range(hetero_graph_inf.num_nodes('drug'))]))\n",
    "\n",
    "# # inference data\n",
    "# hetero_graph_inf.edges['satisfaction'].data['label'] = label_arr_inf\n",
    "# hetero_graph_inf.nodes['patient'].data['feature'] = patient_embed_inf\n",
    "# hetero_graph_inf.nodes['drug'].data['feature'] = drug_embed_inf\n",
    "# hetero_graph_inf.nodes['condition'].data['feature'] = cond_embed_inf\n",
    "\n",
    "# dec_graph_inf = hetero_graph_inf['patient', :, 'drug']\n",
    "\n",
    "# label_arr_inf = torch.tensor(list(df_inf['Satisfaction']))\n",
    "\n",
    "# # model = Model(10, 20, 5, hetero_graph_inf.etypes, 1)\n",
    "\n",
    "# patient_feats_inf = hetero_graph_inf.nodes['patient'].data['feature']\n",
    "# drug_feats_inf = hetero_graph_inf.nodes['drug'].data['feature']\n",
    "# cond_feats_inf = hetero_graph_inf.nodes['condition'].data['feature']\n",
    "\n",
    "# node_features_inf = {'patient': patient_feats_inf, 'drug': drug_feats_inf, 'condition': cond_feats_inf}\n",
    "\n",
    "# dec_graph_inf = hetero_graph_inf['patient', :, 'drug']\n",
    "\n",
    "\n",
    "# model.eval()\n",
    "\n",
    "# with torch.no_grad():\n",
    "#     test_logit = model(hetero_graph_inf, node_features_inf, dec_graph_inf)\n",
    "# test_logit\n",
    "\n",
    "# torch.argmax(test_logit, dim=1).shape\n",
    "\n",
    "# torchmetrics.functional.accuracy(test_logit, label_arr_inf)"
   ]
  },
  {
   "cell_type": "markdown",
   "id": "4653b6d2",
   "metadata": {},
   "source": [
    "### inference"
   ]
  },
  {
   "cell_type": "code",
   "execution_count": 63,
   "id": "c2dbef73",
   "metadata": {
    "ExecuteTime": {
     "end_time": "2022-02-14T09:44:04.319898Z",
     "start_time": "2022-02-14T09:44:04.316544Z"
    }
   },
   "outputs": [
    {
     "data": {
      "text/plain": [
       "(251820, 13)"
      ]
     },
     "execution_count": 63,
     "metadata": {},
     "output_type": "execute_result"
    }
   ],
   "source": [
    "df_t.shape"
   ]
  },
  {
   "cell_type": "code",
   "execution_count": 87,
   "id": "76771139",
   "metadata": {
    "ExecuteTime": {
     "end_time": "2022-02-14T09:49:47.363447Z",
     "start_time": "2022-02-14T09:49:47.359622Z"
    },
    "scrolled": true
   },
   "outputs": [
    {
     "data": {
      "text/plain": [
       "Graph(num_nodes={'condition': 1584, 'drug': 4522, 'patient': 251820},\n",
       "      num_edges={('condition', 'symptom', 'patient'): 251820, ('drug', 'Easy', 'patient'): 186580, ('drug', 'Effectiveness', 'condition'): 147499, ('patient', 'satisfaction', 'drug'): 251820},\n",
       "      metagraph=[('condition', 'patient', 'symptom'), ('patient', 'drug', 'satisfaction'), ('drug', 'patient', 'Easy'), ('drug', 'condition', 'Effectiveness')])"
      ]
     },
     "execution_count": 87,
     "metadata": {},
     "output_type": "execute_result"
    }
   ],
   "source": [
    "hetero_graph_t"
   ]
  },
  {
   "cell_type": "code",
   "execution_count": 88,
   "id": "d10743fa",
   "metadata": {
    "ExecuteTime": {
     "end_time": "2022-02-14T09:49:47.373275Z",
     "start_time": "2022-02-14T09:49:47.365434Z"
    }
   },
   "outputs": [],
   "source": [
    "df_test = df_.iloc[hetero_graph_t.num_nodes('patient'):, :]"
   ]
  },
  {
   "cell_type": "code",
   "execution_count": 89,
   "id": "a35ce96a",
   "metadata": {
    "ExecuteTime": {
     "end_time": "2022-02-14T09:49:47.405300Z",
     "start_time": "2022-02-14T09:49:47.374326Z"
    }
   },
   "outputs": [],
   "source": [
    "### added_inference array\n",
    "patient_arr_inf = np.array(df_test['patient_id'])\n",
    "drug_arr_inf = get_n_arr(df_test, drug_dict, 'DrugId')\n",
    "cond_arr_inf = get_n_arr(df_test, cond_dict, 'Condition')\n",
    "\n",
    "label_arr_inf = torch.tensor(list(df_test['Satisfaction']))"
   ]
  },
  {
   "cell_type": "code",
   "execution_count": 91,
   "id": "79b961d6",
   "metadata": {
    "ExecuteTime": {
     "end_time": "2022-02-14T09:49:47.429126Z",
     "start_time": "2022-02-14T09:49:47.416605Z"
    }
   },
   "outputs": [
    {
     "data": {
      "text/plain": [
       "array([251820, 251821, 251822, ..., 280124, 280125, 280126])"
      ]
     },
     "execution_count": 91,
     "metadata": {},
     "output_type": "execute_result"
    }
   ],
   "source": [
    "patient_arr_inf"
   ]
  },
  {
   "cell_type": "code",
   "execution_count": 92,
   "id": "55e56021",
   "metadata": {
    "ExecuteTime": {
     "end_time": "2022-02-14T09:49:47.453491Z",
     "start_time": "2022-02-14T09:49:47.430548Z"
    }
   },
   "outputs": [],
   "source": [
    "### add edges\n",
    "hetero_graph_inf = dgl.add_edges(hetero_graph_t, patient_arr_inf, drug_arr_inf, etype='satisfaction')\n",
    "hetero_graph_inf = dgl.add_edges(hetero_graph_inf, cond_arr_inf, patient_arr_inf, etype='symptom')\n",
    "hetero_graph_inf = dgl.add_edges(hetero_graph_inf, drug_arr_inf[df_test['EaseofUse']==1], patient_arr_inf[df_test['EaseofUse']==1], etype='Easy')\n",
    "hetero_graph_inf = dgl.add_edges(hetero_graph_inf, drug_arr_inf[df_test['Effectiveness']==1], cond_arr_inf[df_test['Effectiveness']==1], etype='Effectiveness')"
   ]
  },
  {
   "cell_type": "code",
   "execution_count": 93,
   "id": "76b187d2",
   "metadata": {
    "ExecuteTime": {
     "end_time": "2022-02-14T09:49:47.459684Z",
     "start_time": "2022-02-14T09:49:47.455041Z"
    }
   },
   "outputs": [
    {
     "data": {
      "text/plain": [
       "Graph(num_nodes={'condition': 1584, 'drug': 4522, 'patient': 280127},\n",
       "      num_edges={('condition', 'symptom', 'patient'): 280127, ('drug', 'Easy', 'patient'): 206555, ('drug', 'Effectiveness', 'condition'): 164096, ('patient', 'satisfaction', 'drug'): 280127},\n",
       "      metagraph=[('condition', 'patient', 'symptom'), ('patient', 'drug', 'satisfaction'), ('drug', 'patient', 'Easy'), ('drug', 'condition', 'Effectiveness')])"
      ]
     },
     "execution_count": 93,
     "metadata": {},
     "output_type": "execute_result"
    }
   ],
   "source": [
    "hetero_graph_inf"
   ]
  },
  {
   "cell_type": "code",
   "execution_count": 94,
   "id": "d6fc815d",
   "metadata": {
    "ExecuteTime": {
     "end_time": "2022-02-14T09:49:47.471826Z",
     "start_time": "2022-02-14T09:49:47.460637Z"
    }
   },
   "outputs": [
    {
     "data": {
      "text/plain": [
       "Graph(num_nodes={'condition': 1584, 'drug': 4522, 'patient': 251820},\n",
       "      num_edges={('condition', 'symptom', 'patient'): 251820, ('drug', 'Easy', 'patient'): 186580, ('drug', 'Effectiveness', 'condition'): 147499, ('patient', 'satisfaction', 'drug'): 251820},\n",
       "      metagraph=[('condition', 'patient', 'symptom'), ('patient', 'drug', 'satisfaction'), ('drug', 'patient', 'Easy'), ('drug', 'condition', 'Effectiveness')])"
      ]
     },
     "execution_count": 94,
     "metadata": {},
     "output_type": "execute_result"
    }
   ],
   "source": [
    "hetero_graph_t"
   ]
  },
  {
   "cell_type": "code",
   "execution_count": 95,
   "id": "5342a883",
   "metadata": {
    "ExecuteTime": {
     "end_time": "2022-02-14T09:50:38.036253Z",
     "start_time": "2022-02-14T09:50:38.033933Z"
    }
   },
   "outputs": [],
   "source": [
    "# feature embedding\n",
    "patient_embed_inf = patient_embed\n",
    "\n",
    "cond_embed_inf = cond_embed\n",
    "\n",
    "drug_embed_inf = drug_embed"
   ]
  },
  {
   "cell_type": "code",
   "execution_count": 97,
   "id": "fa97548a",
   "metadata": {
    "ExecuteTime": {
     "end_time": "2022-02-14T09:50:42.965237Z",
     "start_time": "2022-02-14T09:50:42.961795Z"
    }
   },
   "outputs": [
    {
     "data": {
      "text/plain": [
       "Graph(num_nodes={'condition': 1584, 'drug': 4522, 'patient': 280127},\n",
       "      num_edges={('condition', 'symptom', 'patient'): 280127, ('drug', 'Easy', 'patient'): 206555, ('drug', 'Effectiveness', 'condition'): 164096, ('patient', 'satisfaction', 'drug'): 280127},\n",
       "      metagraph=[('condition', 'patient', 'symptom'), ('patient', 'drug', 'satisfaction'), ('drug', 'patient', 'Easy'), ('drug', 'condition', 'Effectiveness')])"
      ]
     },
     "execution_count": 97,
     "metadata": {},
     "output_type": "execute_result"
    }
   ],
   "source": [
    "hetero_graph_inf"
   ]
  },
  {
   "cell_type": "code",
   "execution_count": 98,
   "id": "f810fb6d",
   "metadata": {
    "ExecuteTime": {
     "end_time": "2022-02-14T09:50:44.696752Z",
     "start_time": "2022-02-14T09:50:44.662678Z"
    }
   },
   "outputs": [],
   "source": [
    "## node feature and labeling\n",
    "label_arr_inf = torch.tensor(list(df_['Satisfaction']))\n",
    "\n",
    "# inference data\n",
    "hetero_graph_inf.edges['satisfaction'].data['label'] = label_arr_inf\n",
    "hetero_graph_inf.nodes['patient'].data['feature'] = patient_embed_inf\n",
    "hetero_graph_inf.nodes['drug'].data['feature'] = drug_embed_inf\n",
    "hetero_graph_inf.nodes['condition'].data['feature'] = cond_embed_inf"
   ]
  },
  {
   "cell_type": "code",
   "execution_count": 99,
   "id": "c87094fe",
   "metadata": {
    "ExecuteTime": {
     "end_time": "2022-02-14T09:50:45.792114Z",
     "start_time": "2022-02-14T09:50:45.788640Z"
    }
   },
   "outputs": [
    {
     "data": {
      "text/plain": [
       "Graph(num_nodes={'condition': 1584, 'drug': 4522, 'patient': 280127},\n",
       "      num_edges={('condition', 'symptom', 'patient'): 280127, ('drug', 'Easy', 'patient'): 206555, ('drug', 'Effectiveness', 'condition'): 164096, ('patient', 'satisfaction', 'drug'): 280127},\n",
       "      metagraph=[('condition', 'patient', 'symptom'), ('patient', 'drug', 'satisfaction'), ('drug', 'patient', 'Easy'), ('drug', 'condition', 'Effectiveness')])"
      ]
     },
     "execution_count": 99,
     "metadata": {},
     "output_type": "execute_result"
    }
   ],
   "source": [
    "hetero_graph_inf"
   ]
  },
  {
   "cell_type": "code",
   "execution_count": 100,
   "id": "1e6fe175",
   "metadata": {
    "ExecuteTime": {
     "end_time": "2022-02-14T09:50:46.402372Z",
     "start_time": "2022-02-14T09:50:46.399271Z"
    }
   },
   "outputs": [],
   "source": [
    "patient_feats_inf = hetero_graph_inf.nodes['patient'].data['feature']\n",
    "drug_feats_inf = hetero_graph_inf.nodes['drug'].data['feature']\n",
    "cond_feats_inf = hetero_graph_inf.nodes['condition'].data['feature']\n",
    "\n",
    "node_features_inf = {'patient': patient_feats_inf, 'drug': drug_feats_inf, 'condition': cond_feats_inf}\n"
   ]
  },
  {
   "cell_type": "code",
   "execution_count": 101,
   "id": "463bdfc1",
   "metadata": {
    "ExecuteTime": {
     "end_time": "2022-02-14T09:50:48.107973Z",
     "start_time": "2022-02-14T09:50:48.105189Z"
    }
   },
   "outputs": [],
   "source": [
    "node_features_inf = {'patient': patient_feats_inf, 'drug': drug_feats_inf, 'condition': cond_feats_inf}\n",
    "\n",
    "dec_graph_inf = hetero_graph_inf['patient', :, 'drug']\n"
   ]
  },
  {
   "cell_type": "code",
   "execution_count": 102,
   "id": "cee2b0da",
   "metadata": {
    "ExecuteTime": {
     "end_time": "2022-02-14T09:50:53.690968Z",
     "start_time": "2022-02-14T09:50:53.631092Z"
    }
   },
   "outputs": [
    {
     "data": {
      "text/plain": [
       "tensor([[-0.2010,  0.1733],\n",
       "        [-0.1880,  0.1499],\n",
       "        [ 0.0773,  0.0511],\n",
       "        ...,\n",
       "        [ 0.7915, -0.5857],\n",
       "        [-0.1894,  0.5945],\n",
       "        [-0.1894,  0.5945]])"
      ]
     },
     "execution_count": 102,
     "metadata": {},
     "output_type": "execute_result"
    }
   ],
   "source": [
    "model.eval()\n",
    "\n",
    "with torch.no_grad():\n",
    "    test_logit = model(hetero_graph_inf, node_features_inf, dec_graph_inf)\n",
    "test_logit"
   ]
  },
  {
   "cell_type": "code",
   "execution_count": 103,
   "id": "9204b9e1",
   "metadata": {
    "ExecuteTime": {
     "end_time": "2022-02-14T09:50:55.045255Z",
     "start_time": "2022-02-14T09:50:55.022462Z"
    }
   },
   "outputs": [
    {
     "data": {
      "text/plain": [
       "tensor([0, 1, 1, 1, 1, 1, 0, 1, 1, 1, 1, 1, 0, 1, 0, 1, 0, 1, 0, 0, 1, 1, 0, 1,\n",
       "        0, 1, 1, 0, 0, 0, 1, 1, 1, 1, 1, 0, 0, 1, 1, 1, 1, 1, 0, 1, 1, 1, 0, 1,\n",
       "        0, 0, 1, 1, 1, 0, 1, 0, 1, 1, 1, 1, 1, 0, 1, 1, 1, 0, 0, 0, 1, 1, 1, 0,\n",
       "        1, 1, 0, 1, 0, 0, 1, 1, 1, 1, 1, 0, 0, 1, 0, 0, 1, 1, 0, 1, 0, 0, 1, 0,\n",
       "        1, 1, 1, 1])"
      ]
     },
     "execution_count": 103,
     "metadata": {},
     "output_type": "execute_result"
    }
   ],
   "source": [
    "start = hetero_graph_t.num_nodes('patient')\n",
    "torch.argmax(test_logit, dim=1)[start : start+100]"
   ]
  },
  {
   "cell_type": "code",
   "execution_count": 105,
   "id": "5bf22cdb",
   "metadata": {
    "ExecuteTime": {
     "end_time": "2022-02-14T09:50:56.628142Z",
     "start_time": "2022-02-14T09:50:56.624100Z"
    }
   },
   "outputs": [
    {
     "data": {
      "text/plain": [
       "tensor([0, 1, 1, 1, 1, 1, 0, 1, 1, 1, 1, 1, 0, 1, 0, 0, 0, 1, 0, 1, 1, 1, 1, 1,\n",
       "        1, 1, 1, 0, 0, 0, 1, 1, 1, 1, 0, 0, 1, 1, 1, 0, 1, 1, 0, 0, 0, 0, 0, 0,\n",
       "        0, 0, 0, 0, 0, 0, 1, 0, 1, 0, 0, 1, 0, 0, 1, 0, 0, 0, 1, 0, 0, 0, 0, 0,\n",
       "        0, 0, 0, 0, 0, 0, 0, 0, 1, 0, 0, 0, 0, 0, 0, 0, 0, 0, 0, 1, 0, 0, 1, 0,\n",
       "        0, 0, 1, 1])"
      ]
     },
     "execution_count": 105,
     "metadata": {},
     "output_type": "execute_result"
    }
   ],
   "source": [
    "label_arr_inf[start : start+100]"
   ]
  },
  {
   "cell_type": "code",
   "execution_count": 108,
   "id": "f361fde1",
   "metadata": {
    "ExecuteTime": {
     "end_time": "2022-02-14T09:56:24.947267Z",
     "start_time": "2022-02-14T09:56:24.928860Z"
    }
   },
   "outputs": [
    {
     "name": "stdout",
     "output_type": "stream",
     "text": [
      "acc :  0.6967180967330933\n"
     ]
    }
   ],
   "source": [
    "inference_acc =torchmetrics.functional.accuracy(test_logit[start:], label_arr_inf[start:])\n",
    "print(\"acc : \", inference_acc.item())"
   ]
  },
  {
   "cell_type": "markdown",
   "id": "c2cd9a3a",
   "metadata": {
    "heading_collapsed": true
   },
   "source": [
    "## etc"
   ]
  },
  {
   "cell_type": "markdown",
   "id": "0b77dde6",
   "metadata": {
    "hidden": true
   },
   "source": [
    "- `side effect` 는 나누어서 컬럼으로 부여"
   ]
  },
  {
   "cell_type": "code",
   "execution_count": null,
   "id": "83955680",
   "metadata": {
    "ExecuteTime": {
     "end_time": "2022-02-14T03:19:26.954580Z",
     "start_time": "2022-02-14T03:19:15.270Z"
    },
    "hidden": true,
    "scrolled": true
   },
   "outputs": [],
   "source": [
    "df_sides = df_['Sides'].str.split(',')\n",
    "df_sides = pd.DataFrame(df_sides.tolist())\n",
    "df_sides.columns = ['side'+ str(i) for i in range(17)]\n",
    "df_sides.head()"
   ]
  },
  {
   "cell_type": "code",
   "execution_count": 97,
   "id": "6939818c",
   "metadata": {
    "ExecuteTime": {
     "end_time": "2022-02-10T09:43:45.012032Z",
     "start_time": "2022-02-10T09:43:44.932762Z"
    },
    "hidden": true,
    "scrolled": true
   },
   "outputs": [
    {
     "data": {
      "text/html": [
       "<div>\n",
       "<style scoped>\n",
       "    .dataframe tbody tr th:only-of-type {\n",
       "        vertical-align: middle;\n",
       "    }\n",
       "\n",
       "    .dataframe tbody tr th {\n",
       "        vertical-align: top;\n",
       "    }\n",
       "\n",
       "    .dataframe thead th {\n",
       "        text-align: right;\n",
       "    }\n",
       "</style>\n",
       "<table border=\"1\" class=\"dataframe\">\n",
       "  <thead>\n",
       "    <tr style=\"text-align: right;\">\n",
       "      <th></th>\n",
       "      <th>Age</th>\n",
       "      <th>Sex</th>\n",
       "      <th>side0</th>\n",
       "      <th>side1</th>\n",
       "      <th>side2</th>\n",
       "      <th>side3</th>\n",
       "      <th>side4</th>\n",
       "      <th>side5</th>\n",
       "      <th>side6</th>\n",
       "      <th>side7</th>\n",
       "      <th>side8</th>\n",
       "      <th>side9</th>\n",
       "      <th>side10</th>\n",
       "      <th>side11</th>\n",
       "      <th>side12</th>\n",
       "      <th>side13</th>\n",
       "      <th>side14</th>\n",
       "      <th>side15</th>\n",
       "      <th>side16</th>\n",
       "    </tr>\n",
       "  </thead>\n",
       "  <tbody>\n",
       "    <tr>\n",
       "      <th>0</th>\n",
       "      <td>75 or over</td>\n",
       "      <td>Male</td>\n",
       "      <td>Drowsiness</td>\n",
       "      <td>dizziness</td>\n",
       "      <td>dry mouth /nose/throat</td>\n",
       "      <td>headache</td>\n",
       "      <td>upset stomach</td>\n",
       "      <td>constipation</td>\n",
       "      <td>or  trouble sleeping  may occur.</td>\n",
       "      <td>None</td>\n",
       "      <td>None</td>\n",
       "      <td>None</td>\n",
       "      <td>None</td>\n",
       "      <td>None</td>\n",
       "      <td>None</td>\n",
       "      <td>None</td>\n",
       "      <td>None</td>\n",
       "      <td>None</td>\n",
       "      <td>None</td>\n",
       "    </tr>\n",
       "    <tr>\n",
       "      <th>1</th>\n",
       "      <td>25-34</td>\n",
       "      <td>Female</td>\n",
       "      <td>Drowsiness</td>\n",
       "      <td>dizziness</td>\n",
       "      <td>dry mouth /nose/throat</td>\n",
       "      <td>headache</td>\n",
       "      <td>upset stomach</td>\n",
       "      <td>constipation</td>\n",
       "      <td>or  trouble sleeping  may occur.</td>\n",
       "      <td>None</td>\n",
       "      <td>None</td>\n",
       "      <td>None</td>\n",
       "      <td>None</td>\n",
       "      <td>None</td>\n",
       "      <td>None</td>\n",
       "      <td>None</td>\n",
       "      <td>None</td>\n",
       "      <td>None</td>\n",
       "      <td>None</td>\n",
       "    </tr>\n",
       "    <tr>\n",
       "      <th>2</th>\n",
       "      <td>25-34</td>\n",
       "      <td>Female</td>\n",
       "      <td>Nausea</td>\n",
       "      <td>vomiting</td>\n",
       "      <td>headache</td>\n",
       "      <td>bloating</td>\n",
       "      <td>breast  tenderness</td>\n",
       "      <td>swelling of the  ankles /feet (fluid retention)</td>\n",
       "      <td>or  weight  change may occur.</td>\n",
       "      <td>None</td>\n",
       "      <td>None</td>\n",
       "      <td>None</td>\n",
       "      <td>None</td>\n",
       "      <td>None</td>\n",
       "      <td>None</td>\n",
       "      <td>None</td>\n",
       "      <td>None</td>\n",
       "      <td>None</td>\n",
       "      <td>None</td>\n",
       "    </tr>\n",
       "    <tr>\n",
       "      <th>3</th>\n",
       "      <td>45-54</td>\n",
       "      <td>Female</td>\n",
       "      <td>Nausea</td>\n",
       "      <td>vomiting</td>\n",
       "      <td>headache</td>\n",
       "      <td>bloating</td>\n",
       "      <td>breast  tenderness</td>\n",
       "      <td>swelling of the  ankles /feet (fluid retention)</td>\n",
       "      <td>or  weight  change may occur.</td>\n",
       "      <td>None</td>\n",
       "      <td>None</td>\n",
       "      <td>None</td>\n",
       "      <td>None</td>\n",
       "      <td>None</td>\n",
       "      <td>None</td>\n",
       "      <td>None</td>\n",
       "      <td>None</td>\n",
       "      <td>None</td>\n",
       "      <td>None</td>\n",
       "    </tr>\n",
       "    <tr>\n",
       "      <th>4</th>\n",
       "      <td>55-64</td>\n",
       "      <td>Male</td>\n",
       "      <td>Temporary burning</td>\n",
       "      <td>stinging</td>\n",
       "      <td>dryness in the nose</td>\n",
       "      <td>runny nose</td>\n",
       "      <td>and  sneezing  may occur.</td>\n",
       "      <td>None</td>\n",
       "      <td>None</td>\n",
       "      <td>None</td>\n",
       "      <td>None</td>\n",
       "      <td>None</td>\n",
       "      <td>None</td>\n",
       "      <td>None</td>\n",
       "      <td>None</td>\n",
       "      <td>None</td>\n",
       "      <td>None</td>\n",
       "      <td>None</td>\n",
       "      <td>None</td>\n",
       "    </tr>\n",
       "  </tbody>\n",
       "</table>\n",
       "</div>"
      ],
      "text/plain": [
       "          Age     Sex              side0         side1  \\\n",
       "0  75 or over    Male         Drowsiness    dizziness    \n",
       "1       25-34  Female         Drowsiness    dizziness    \n",
       "2       25-34  Female            Nausea      vomiting    \n",
       "3       45-54  Female            Nausea      vomiting    \n",
       "4       55-64    Male  Temporary burning      stinging   \n",
       "\n",
       "                      side2          side3                       side4  \\\n",
       "0    dry mouth /nose/throat      headache               upset stomach    \n",
       "1    dry mouth /nose/throat      headache               upset stomach    \n",
       "2                 headache       bloating           breast  tenderness   \n",
       "3                 headache       bloating           breast  tenderness   \n",
       "4       dryness in the nose    runny nose    and  sneezing  may occur.   \n",
       "\n",
       "                                              side5  \\\n",
       "0                                     constipation    \n",
       "1                                     constipation    \n",
       "2   swelling of the  ankles /feet (fluid retention)   \n",
       "3   swelling of the  ankles /feet (fluid retention)   \n",
       "4                                              None   \n",
       "\n",
       "                               side6 side7 side8 side9 side10 side11 side12  \\\n",
       "0   or  trouble sleeping  may occur.  None  None  None   None   None   None   \n",
       "1   or  trouble sleeping  may occur.  None  None  None   None   None   None   \n",
       "2      or  weight  change may occur.  None  None  None   None   None   None   \n",
       "3      or  weight  change may occur.  None  None  None   None   None   None   \n",
       "4                               None  None  None  None   None   None   None   \n",
       "\n",
       "  side13 side14 side15 side16  \n",
       "0   None   None   None   None  \n",
       "1   None   None   None   None  \n",
       "2   None   None   None   None  \n",
       "3   None   None   None   None  \n",
       "4   None   None   None   None  "
      ]
     },
     "execution_count": 97,
     "metadata": {},
     "output_type": "execute_result"
    }
   ],
   "source": [
    "patient_fea = df_[['Age', 'Sex']]\n",
    "fea_df = pd.concat([patient_fea, df_sides], axis=1)\n",
    "fea_df.head()"
   ]
  },
  {
   "cell_type": "markdown",
   "id": "c0332b17",
   "metadata": {
    "hidden": true
   },
   "source": [
    "### train/val/test Split"
   ]
  },
  {
   "cell_type": "code",
   "execution_count": 60,
   "id": "c174d972",
   "metadata": {
    "ExecuteTime": {
     "end_time": "2022-02-10T08:45:02.552579Z",
     "start_time": "2022-02-10T08:45:02.529639Z"
    },
    "hidden": true
   },
   "outputs": [],
   "source": [
    "label_df = df_[['Satisfaction']]\n",
    "x = df_.drop('Satisfaction', axis=1)"
   ]
  },
  {
   "cell_type": "code",
   "execution_count": 459,
   "id": "7be80451",
   "metadata": {
    "ExecuteTime": {
     "end_time": "2022-02-11T04:03:54.059850Z",
     "start_time": "2022-02-11T04:03:53.095588Z"
    },
    "hidden": true
   },
   "outputs": [],
   "source": [
    "from sklearn.model_selection import train_test_split\n",
    "x_train, x_test, y_train, y_test = train_test_split(\n",
    "    x, label_df, test_size=0.2, random_state=123, stratify=label_df)"
   ]
  },
  {
   "cell_type": "code",
   "execution_count": 462,
   "id": "ff6c8171",
   "metadata": {
    "ExecuteTime": {
     "end_time": "2022-02-11T04:04:25.795967Z",
     "start_time": "2022-02-11T04:04:25.792277Z"
    },
    "hidden": true
   },
   "outputs": [
    {
     "name": "stderr",
     "output_type": "stream",
     "text": [
      "<ipython-input-462-253896d4273d>:1: SettingWithCopyWarning: \n",
      "A value is trying to be set on a copy of a slice from a DataFrame.\n",
      "Try using .loc[row_indexer,col_indexer] = value instead\n",
      "\n",
      "See the caveats in the documentation: https://pandas.pydata.org/pandas-docs/stable/user_guide/indexing.html#returning-a-view-versus-a-copy\n",
      "  x_train['Satisfaction'] = y_train\n"
     ]
    }
   ],
   "source": [
    "x_train['Satisfaction'] = y_train"
   ]
  }
 ],
 "metadata": {
  "kernelspec": {
   "display_name": "Python 3",
   "language": "python",
   "name": "python3"
  },
  "language_info": {
   "codemirror_mode": {
    "name": "ipython",
    "version": 3
   },
   "file_extension": ".py",
   "mimetype": "text/x-python",
   "name": "python",
   "nbconvert_exporter": "python",
   "pygments_lexer": "ipython3",
   "version": "3.8.10"
  },
  "toc": {
   "base_numbering": 1,
   "nav_menu": {},
   "number_sections": false,
   "sideBar": true,
   "skip_h1_title": false,
   "title_cell": "Table of Contents",
   "title_sidebar": "Contents",
   "toc_cell": false,
   "toc_position": {},
   "toc_section_display": true,
   "toc_window_display": false
  }
 },
 "nbformat": 4,
 "nbformat_minor": 5
}
